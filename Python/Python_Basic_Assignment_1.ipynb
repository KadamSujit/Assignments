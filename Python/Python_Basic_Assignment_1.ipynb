{
 "cells": [
  {
   "cell_type": "raw",
   "id": "aa57a182",
   "metadata": {},
   "source": [
    "Python_Basic_Assignment_1"
   ]
  },
  {
   "cell_type": "raw",
   "id": "39f0d75c",
   "metadata": {},
   "source": [
    "1. In the below elements which of them are values or an expression? eg:- values can be integer or string and expressions will be mathematical operators.\n",
    "* \n",
    "'hello'\n",
    "-87.8\n",
    "- \n",
    "/ \n",
    "+\t\n",
    "6 \n",
    "\n",
    "Ans:\n",
    "* = expression\n",
    "'hello'= value\n",
    "-87.8 = value\n",
    "- = expression\n",
    "/ = expression\n",
    "+ = expression\n",
    "6 = value"
   ]
  },
  {
   "cell_type": "raw",
   "id": "bdd476a0",
   "metadata": {},
   "source": [
    "2. What is the difference between string and variable?\n",
    "\n",
    "Ans:\n",
    "String is a primitive data type whereas variable is an entity which can hold any datatype.\n",
    "eg. a = \"computer\", here 'a' is variable which holds the value 'computer' as a string datatype."
   ]
  },
  {
   "cell_type": "raw",
   "id": "65a0d50b",
   "metadata": {},
   "source": [
    "3. Describe three different data types.\n",
    "\n",
    "Ans:\n",
    "1) Number: int (e.g: 12), float (e.g: 72.56), complex number (e.g: 3+4j)\n",
    "2) String: \"Hello World\", \"This is my string datatype in python\"\n",
    "3) Boolean: True, False (Python is smart so we can also use 1 and 0)\n",
    "4) List: [14,3,58,\"abcd\",-42,8+3j,True]\n",
    "5) Tuple: (14,3,58,\"abcd\",-42,8+3j,True)\n",
    "6) Set: {1,2,3,4,5}\n",
    "7) Dictonary: {'k1':1,'k2':2, 'k3':3}"
   ]
  },
  {
   "cell_type": "raw",
   "id": "c3aa4a60",
   "metadata": {},
   "source": [
    "4. What is an expression made up of? What do all expressions do?\n",
    "\n",
    "Ans:\n",
    "It is a combination of variables, operations and values that ultimately gives us a final value. e.g; 3*4 is an expression which gives final value as 12"
   ]
  },
  {
   "cell_type": "raw",
   "id": "99f89f7b",
   "metadata": {},
   "source": [
    "5. This assignment statements, like spam = 10. What is the difference between an expression and a statement?\n",
    "\n",
    "Ans:\n",
    "The expression always end up by giving us a certain value, whereas, a statement does something, like creating a variable or displaying a value. Statement generally is either a commond or action."
   ]
  },
  {
   "cell_type": "raw",
   "id": "eca083f3",
   "metadata": {},
   "source": [
    "6. After running the following code, what does the variable bacon contain?\n",
    "bacon = 22\n",
    "bacon + 1\n",
    "\n",
    "Ans:\n",
    "22"
   ]
  },
  {
   "cell_type": "raw",
   "id": "d79a8f7f",
   "metadata": {},
   "source": [
    "7. What should the values of the following two terms be?\n",
    "'spam' + 'spamspam'\n",
    "'spam' * 3\n",
    "\n",
    "Ans:\n",
    "\"spamspamspam\" will be value for both the two terms"
   ]
  },
  {
   "cell_type": "raw",
   "id": "de1a3f64",
   "metadata": {},
   "source": [
    "8. Why is eggs a valid variable name while 100 is invalid?\n",
    "\n",
    "Ans:\n",
    "Because it is a rule that variable name cannot start with number."
   ]
  },
  {
   "cell_type": "raw",
   "id": "815f41dc",
   "metadata": {},
   "source": [
    "9. What three functions can be used to get the integer, floating-point number, or string version of a value?\n",
    "\n",
    "Ans:\n",
    "For integer = int()\n",
    "For floating-point = float()\n",
    "For string = str()"
   ]
  },
  {
   "cell_type": "raw",
   "id": "9a71bbe2",
   "metadata": {},
   "source": [
    "10. Why does this expression cause an error? How can you fix it?\n",
    "'I have eaten ' + 99 + ' burritos.'\n",
    "\n",
    "Ans:\n",
    "It gives error because a string cannot be concatenated with integer.\n",
    "To fix it, make int 99 as string '99' and then concatenate.\n",
    "'I have eaten ' + '99' + ' burritos.' ---> 'I have eaten 99 burritos."
   ]
  }
 ],
 "metadata": {
  "kernelspec": {
   "display_name": "Python 3 (ipykernel)",
   "language": "python",
   "name": "python3"
  },
  "language_info": {
   "codemirror_mode": {
    "name": "ipython",
    "version": 3
   },
   "file_extension": ".py",
   "mimetype": "text/x-python",
   "name": "python",
   "nbconvert_exporter": "python",
   "pygments_lexer": "ipython3",
   "version": "3.9.7"
  }
 },
 "nbformat": 4,
 "nbformat_minor": 5
}
