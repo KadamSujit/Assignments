{
 "cells": [
  {
   "cell_type": "raw",
   "id": "25177b39",
   "metadata": {},
   "source": [
    "Python_Basic_Assignment_4"
   ]
  },
  {
   "cell_type": "raw",
   "id": "bcfaaec1",
   "metadata": {},
   "source": [
    "1. What exactly is []?\n",
    "\n",
    "Ans:\n",
    "[] is an empty list."
   ]
  },
  {
   "cell_type": "raw",
   "id": "0ceabbff",
   "metadata": {},
   "source": [
    "2. In a list of values stored in a variable called spam, how would you assign the value 'hello' as the third value? (Assume [2, 4, 6, 8, 10] are in spam.)\n",
    "\n",
    "Ans:\n",
    "spam[2]='hello'"
   ]
  },
  {
   "cell_type": "raw",
   "id": "162d35a6",
   "metadata": {},
   "source": [
    "Let's pretend the spam includes the list ['a', 'b', 'c', 'd'] for the next three queries.\n",
    "3. What is the value of spam[int(int('3' * 2) / 11)]?\n",
    "\n",
    "Ans:\n",
    "'d'"
   ]
  },
  {
   "cell_type": "raw",
   "id": "b1dcff4b",
   "metadata": {},
   "source": [
    "4. What is the value of spam[-1]?\n",
    "\n",
    "Ans:\n",
    "'d'"
   ]
  },
  {
   "cell_type": "raw",
   "id": "8bf3e2bc",
   "metadata": {},
   "source": [
    "5. What is the value of spam[:2]?\n",
    "\n",
    "Ans:\n",
    "['a','b']"
   ]
  },
  {
   "cell_type": "raw",
   "id": "69a58f89",
   "metadata": {},
   "source": [
    "Let's pretend bacon has the list [3.14, 'cat,' 11, 'cat,' True] for the next three questions.\n",
    "6. What is the value of bacon.index('cat')?\n",
    "\n",
    "Ans:\n",
    "1"
   ]
  },
  {
   "cell_type": "raw",
   "id": "3f42e2fc",
   "metadata": {},
   "source": [
    "7. How does bacon.append(99) change the look of the list value in bacon?\n",
    "\n",
    "Ans:\n",
    "[3.14, 'cat', 11, 'cat', True, 99]\n",
    "It adds 99 as the last element of the list."
   ]
  },
  {
   "cell_type": "raw",
   "id": "270b9ddf",
   "metadata": {},
   "source": [
    "8. How does bacon.remove('cat') change the look of the list in bacon?\n",
    "\n",
    "Ans:\n",
    "[3.14, 11, 'cat', True]\n",
    "Removes first element that it comes across in a list"
   ]
  },
  {
   "cell_type": "raw",
   "id": "52904162",
   "metadata": {},
   "source": [
    "9. What are the list concatenation and list replication operators?\n",
    "\n",
    "Ans:\n",
    "Operator for concatenating a list is '+'\n",
    "Operator for replicating a list is '*'"
   ]
  },
  {
   "cell_type": "raw",
   "id": "a4bfc5ff",
   "metadata": {},
   "source": [
    "10. What is difference between the list methods append() and insert()?\n",
    "\n",
    "Ans:\n",
    "append() --> adds a value at last in a list. Takes only one argument, i.e. (value)\n",
    "insert() --> inserts a value at given location in a list. Takes two arguments, i.e (index,value)"
   ]
  },
  {
   "cell_type": "raw",
   "id": "57f9df14",
   "metadata": {},
   "source": [
    "11. What are the two methods for removing items from a list?\n",
    "\n",
    "Ans:\n",
    "remove() --> removes very first element which matches the given element (as an argument) in a list.\n",
    "pop() --> removes element from given index. If no index/location given, then it deletes last element from a list.\n",
    "clear() --> removes all the elements from a list."
   ]
  },
  {
   "cell_type": "raw",
   "id": "62aa73b5",
   "metadata": {},
   "source": [
    "12. Describe how list values and string values are identical.\n",
    "\n",
    "Ans:\n",
    "List and string, both are indexed that means both are in a sequence\n",
    "We can access each element from list and string by using its index number.\n",
    "They both are iterable."
   ]
  },
  {
   "cell_type": "raw",
   "id": "c9695f1d",
   "metadata": {},
   "source": [
    "13. What's the difference between tuples and lists?\n",
    "\n",
    "Ans:\n",
    "Lists are mutable datatype. That is, they can be modified upon creation.\n",
    "Tuples are immutable datatype. They cannot be modified upon creation."
   ]
  },
  {
   "cell_type": "raw",
   "id": "07081baf",
   "metadata": {},
   "source": [
    "14. How do you type a tuple value that only contains the integer 42?\n",
    "\n",
    "Ans:\n",
    "t=(42,)\n",
    "For creating a tuple with a single element, give comma after the first element."
   ]
  },
  {
   "cell_type": "raw",
   "id": "8fa2d357",
   "metadata": {},
   "source": [
    "15. How do you get a list value's tuple form? How do you get a tuple value's list form?\n",
    "\n",
    "Ans:\n",
    "By typecasting into required form.\n",
    "l = [1,2,3,4]\n",
    "t = (1,2,3,4)\n",
    "\n",
    "l1=tuple(l)\n",
    "l1 --> (1, 2, 3, 4) --> list value's tuple form\n",
    "\n",
    "t1 = list (t)\n",
    "t1 --> [1, 2, 3, 4] --> tuple value's list form"
   ]
  },
  {
   "cell_type": "raw",
   "id": "1cd8a737",
   "metadata": {},
   "source": [
    "16. Variables that \"contain\" list values are not necessarily lists themselves. Instead, what do they contain?\n",
    "\n",
    "Ans:\n",
    "Variables will contain references to list values rather than list values themselves.\n",
    "Python uses references whenever variables must store values of mutable data types, such as lists or dictionaries.\n",
    "For values of immutable data types such as strings, integers, or tuples, Python variables will store the value itself."
   ]
  },
  {
   "cell_type": "raw",
   "id": "2a77b36e",
   "metadata": {},
   "source": [
    "17. How do you distinguish between copy.copy() and copy.deepcopy()?\n",
    "\n",
    "Ans:\n",
    "copy is a module of Python used for shallow and deep copy operations.\n",
    "copy.copy() returns a shallow copy. A shallow copy creates a new object which stores the reference of the original elements.\n",
    "copy.deepcopy() returns a deep copy. A deep copy creates a new object and recursively adds the copies of nested objects present in the original elements."
   ]
  }
 ],
 "metadata": {
  "kernelspec": {
   "display_name": "Python 3 (ipykernel)",
   "language": "python",
   "name": "python3"
  },
  "language_info": {
   "codemirror_mode": {
    "name": "ipython",
    "version": 3
   },
   "file_extension": ".py",
   "mimetype": "text/x-python",
   "name": "python",
   "nbconvert_exporter": "python",
   "pygments_lexer": "ipython3",
   "version": "3.9.7"
  }
 },
 "nbformat": 4,
 "nbformat_minor": 5
}
