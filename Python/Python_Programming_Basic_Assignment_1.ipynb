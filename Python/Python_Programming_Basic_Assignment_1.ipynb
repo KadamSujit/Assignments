{
 "cells": [
  {
   "cell_type": "raw",
   "id": "3f8e6935",
   "metadata": {},
   "source": [
    "Python_Programming_Basic_Assignment_1"
   ]
  },
  {
   "cell_type": "raw",
   "id": "35af8c12",
   "metadata": {},
   "source": [
    "1.\tWrite a Python program to print \"Hello Python\"?\n",
    "\n",
    "Ans:\n",
    "print(\"Hello Python\")"
   ]
  },
  {
   "cell_type": "raw",
   "id": "7066969f",
   "metadata": {},
   "source": [
    "2.\tWrite a Python program to do arithmetical operations addition and division.?\n",
    "\n",
    "Ans: \n",
    "def ops():\n",
    "    \"\"\"function for doing addition and division\"\"\"\n",
    "    a = int(input(\"Enter first number:\"))\n",
    "    b = int(input(\"Enter second number:\"))\n",
    "    add = a+b\n",
    "    try:\n",
    "        div=a/b\n",
    "    except Exception as e:\n",
    "        return f' addition of two numbers is:{add} and division is: cannot divide by zero'\n",
    "    return f' addition of two numbers is:{add} and division is: {div}'"
   ]
  },
  {
   "cell_type": "raw",
   "id": "fb218a26",
   "metadata": {},
   "source": [
    "3.\tWrite a Python program to find the area of a triangle?\n",
    "\n",
    "Ans:\n",
    "def tri_area():\n",
    "    \"\"\"function for finding area of triangle\"\"\"\n",
    "    try:\n",
    "        base = eval(input(\"Enter base length of triangle:\"))\n",
    "        side = eval(input(\"Enter side length of triangle:\"))\n",
    "        \n",
    "        area = 0.5 * base * side\n",
    "        \n",
    "    except Exception as e:\n",
    "        print(\"Error occured\")\n",
    "    return f'Area of triangle is: {area}'"
   ]
  },
  {
   "cell_type": "raw",
   "id": "b6718e3a",
   "metadata": {},
   "source": [
    "4.\tWrite a Python program to swap two variables?\n",
    "\n",
    "Ans:\n",
    "def swap():\n",
    "    \"\"\"function for swapping\"\"\"\n",
    "    try:\n",
    "        a = eval(input(\"Enter first variable value:\"))\n",
    "        b = eval(input(\"Enter second variable value:\"))\n",
    "        \n",
    "        temp = a\n",
    "        a=b\n",
    "        b=temp\n",
    "        \n",
    "    except Exception as e:\n",
    "        print(\"Error occured\")\n",
    "        \n",
    "    return \"swapped successfully\",a,b"
   ]
  },
  {
   "cell_type": "raw",
   "id": "a4c23961",
   "metadata": {},
   "source": [
    "5.\tWrite a Python program to generate a random number?\n",
    "\n",
    "Ans:\n",
    "\n",
    "import random\n",
    "\n",
    "print(random.randint(0,100))"
   ]
  }
 ],
 "metadata": {
  "kernelspec": {
   "display_name": "Python 3 (ipykernel)",
   "language": "python",
   "name": "python3"
  },
  "language_info": {
   "codemirror_mode": {
    "name": "ipython",
    "version": 3
   },
   "file_extension": ".py",
   "mimetype": "text/x-python",
   "name": "python",
   "nbconvert_exporter": "python",
   "pygments_lexer": "ipython3",
   "version": "3.9.7"
  }
 },
 "nbformat": 4,
 "nbformat_minor": 5
}
