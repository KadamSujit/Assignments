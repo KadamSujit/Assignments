{
 "cells": [
  {
   "cell_type": "raw",
   "id": "93b01463",
   "metadata": {},
   "source": [
    "Python_Programming_Basic_Assignment_4"
   ]
  },
  {
   "cell_type": "raw",
   "id": "71299d2a",
   "metadata": {},
   "source": [
    "1.\tWrite a Python Program to Find the Factorial of a Number?\n",
    "\n",
    "Ans:\n",
    "def factorial(x):\n",
    "    \"\"\"This function takes one argument and gives its factorial\"\"\"\n",
    "    try:\n",
    "        if type(x) == int:    \n",
    "            if (x<0):\n",
    "                return \"Please enter positive number\"\n",
    "            else:\n",
    "                fact = 1\n",
    "                while(x>=1):\n",
    "                    fact = fact * x\n",
    "                    x = x-1\n",
    "                return fact       \n",
    "        else:\n",
    "            return \"Please enter a positive number\"   \n",
    "    except Exception as e:\n",
    "        print(\"Error occured\", e)"
   ]
  },
  {
   "cell_type": "raw",
   "id": "c825585d",
   "metadata": {},
   "source": [
    "2.\tWrite a Python Program to Display the multiplication Table?\n",
    "\n",
    "Ans:\n",
    "def table(n):\n",
    "    \"\"\"This function displays table multiplication for a given number\"\"\"\n",
    "    try:\n",
    "        if type(n) != int:    \n",
    "            return \"Please enter positive number\"\n",
    "        for i in range(1,11):\n",
    "            yield (f'{n} X {i} = {n*i}')\n",
    "            #print(f'{n} X {i} = {n*i}')\n",
    "   \n",
    "    except Exception as e:\n",
    "        print(\"Error occured\", e)\n",
    "\n",
    "# If yield is used for generating the table then we will have to use print in for loop to get out the data similar to range function.\n",
    "\n",
    "for i in table(3):\n",
    "    print(i)"
   ]
  },
  {
   "cell_type": "raw",
   "id": "59586b4a",
   "metadata": {},
   "source": [
    "3.\tWrite a Python Program to Print the Fibonacci sequence?\n",
    "\n",
    "Ans:\n",
    "def fibonacci(n):\n",
    "    \"\"\"This function gives a entered number of elements of fibonacci series\"\"\"\n",
    "    try:\n",
    "        a,b,c,l=0,1,0,[]\n",
    "        l.append(a)\n",
    "        l.append(b)\n",
    "        for i in range(n-2):\n",
    "            c=a+b\n",
    "            l.append(c)\n",
    "            a,b=b,c\n",
    "        return l   \n",
    "    except Exception as e:\n",
    "        print(\"Error occured\", e)"
   ]
  },
  {
   "cell_type": "raw",
   "id": "27b7947a",
   "metadata": {},
   "source": [
    "4.\tWrite a Python Program to Check Armstrong Number?\n",
    "\n",
    "Ans:\n",
    "import math as m\n",
    "def armstrong(n):\n",
    "    \"\"\"This function checks for armstrong number\"\"\"\n",
    "    try:\n",
    "        num = n\n",
    "        arm=0\n",
    "        while(n>0):\n",
    "            rem=n%10\n",
    "            arm=int(arm+m.pow(rem,3))\n",
    "            n=int(n/10)\n",
    "        if arm==num:\n",
    "            return f'{num} is an armstrong number'\n",
    "        else:\n",
    "            return f'{num} is not an armstrong number'\n",
    "    except Exception as e:\n",
    "        print(\"Error occured\", e)"
   ]
  },
  {
   "cell_type": "raw",
   "id": "c02beb50",
   "metadata": {},
   "source": [
    "5.\tWrite a Python Program to Find Armstrong Number in an Interval?\n",
    "\n",
    "Ans:\n",
    "import math as m\n",
    "def armstrong_interval(a,b):\n",
    "    \"\"\"This function takes two arguments and checks for all the armstrong numbers within this interval\"\"\"\n",
    "    try:\n",
    "        l=[]\n",
    "        for n in range(a,b+1):\n",
    "            num = n\n",
    "            arm=0\n",
    "            while(n>0):\n",
    "                rem=n%10\n",
    "                arm=int(arm+m.pow(rem,3))\n",
    "                n=int(n/10)\n",
    "            if arm==num:\n",
    "                l.append(arm)\n",
    "        if len(l):\n",
    "            return f'{l} <-- these are all the armstrong numbers within the interval {a} to {b}'\n",
    "        else:\n",
    "            return f'No armstrong number in the interval {a} to {b}'\n",
    "            \n",
    "    except Exception as e:\n",
    "        print(\"Error occured\", e)"
   ]
  },
  {
   "cell_type": "raw",
   "id": "89475db0",
   "metadata": {},
   "source": [
    "6.\tWrite a Python Program to Find the Sum of Natural Numbers?\n",
    "\n",
    "Ans:\n",
    "import math as m\n",
    "def sum_natural_no(n):\n",
    "    \"\"\"This function gives the sum of all natural numbers\"\"\"\n",
    "    try:\n",
    "        sum=0\n",
    "        if n<=0:\n",
    "            return 'Please enter a number greater than zero'\n",
    "        \n",
    "        for i in range(1,n+1):\n",
    "            sum = sum+i\n",
    "            \n",
    "        return f\"Sum of natural numbers = {sum}\"\n",
    "    except Exception as e:\n",
    "        print(\"Error occured\", e)"
   ]
  }
 ],
 "metadata": {
  "kernelspec": {
   "display_name": "Python 3 (ipykernel)",
   "language": "python",
   "name": "python3"
  },
  "language_info": {
   "codemirror_mode": {
    "name": "ipython",
    "version": 3
   },
   "file_extension": ".py",
   "mimetype": "text/x-python",
   "name": "python",
   "nbconvert_exporter": "python",
   "pygments_lexer": "ipython3",
   "version": "3.9.7"
  }
 },
 "nbformat": 4,
 "nbformat_minor": 5
}
