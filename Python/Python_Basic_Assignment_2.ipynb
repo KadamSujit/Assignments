{
 "cells": [
  {
   "cell_type": "raw",
   "id": "6210b791",
   "metadata": {},
   "source": [
    "Python_Basic_Assignment_2"
   ]
  },
  {
   "cell_type": "raw",
   "id": "3bb5c801",
   "metadata": {},
   "source": [
    "1.What are the two values of the Boolean data type? How do you write them?\n",
    "\n",
    "Ans:\n",
    "The two values of Boolean data type are True and False.\n",
    "e.g;\n",
    "def check_val():\n",
    "    a=3\n",
    "    b=3\n",
    "    if a==b:\n",
    "        return True\n",
    "    else:\n",
    "        return False\n",
    "\n",
    "check_val() ---> True"
   ]
  },
  {
   "cell_type": "raw",
   "id": "fab9516f",
   "metadata": {},
   "source": [
    "2. What are the three different types of Boolean operators?\n",
    "\n",
    "Ans:\n",
    "a) and\n",
    "b) or\n",
    "c) not"
   ]
  },
  {
   "cell_type": "raw",
   "id": "aa240740",
   "metadata": {},
   "source": [
    "3. Make a list of each Boolean operator's truth tables (i.e. every possible combination of Boolean values for the operator and what it evaluate ).\n",
    "\n",
    "Ans:\n",
    "a) and Truth Table:\n",
    "True and True ---> True\n",
    "True and False ---> False\n",
    "False and True ---> False\n",
    "False and False ---> False\n",
    "\n",
    "b) or Truth Table:\n",
    "True or True ---> True\n",
    "True or False ---> True\n",
    "False or True ---> True\n",
    "False or False ---> False\n",
    "\n",
    "c) not Truth Table:\n",
    "not True ---> False\n",
    "not False ---> True"
   ]
  },
  {
   "cell_type": "raw",
   "id": "7053c6b7",
   "metadata": {},
   "source": [
    "4. What are the values of the following expressions?\n",
    "(5 > 4) and (3 == 5)\n",
    "not (5 > 4)\n",
    "(5 > 4) or (3 == 5)\n",
    "not ((5 > 4) or (3 == 5))\n",
    "(True and True) and (True == False)\n",
    "(not False) or (not True)\n",
    "\n",
    "Ans: \n",
    "a) (5 > 4) and (3 == 5) ---> False\n",
    "b) not (5 > 4) ---> False\n",
    "c) (5 > 4) or (3 == 5) ---> True\n",
    "d) not ((5 > 4) or (3 == 5)) ---> False\n",
    "e) (True and True) and (True == False) ---> False\n",
    "f) (not False) or (not True) ---> True"
   ]
  },
  {
   "cell_type": "raw",
   "id": "ddefe8a4",
   "metadata": {},
   "source": [
    "5. What are the six comparison operators?\n",
    "\n",
    "Ans:\n",
    "a) equal to (==)\n",
    "b) not equal to (!=)\n",
    "c) less than (<)\n",
    "d) greater than (>)\n",
    "e) less than or equal to (<=)\n",
    "f) greater than or equal to (>=)"
   ]
  },
  {
   "cell_type": "raw",
   "id": "edc367d8",
   "metadata": {},
   "source": [
    "6. How do you tell the difference between the equal to and assignment operators?Describe a condition and when you would use one.\n",
    "\n",
    "Ans:\n",
    "Assignment operator (=) assigns value to a variable.\n",
    "e.g; a=5\n",
    "\n",
    "Equal to operator (==) is a comparison operator which checks if both the two values or two opernads are equal or unequal. If they are equal then it returns True, if they are unequal then it returns False.\n",
    "e.g; a=3\n",
    "     b=3\n",
    "     a==b ---> True"
   ]
  },
  {
   "cell_type": "raw",
   "id": "48b955a4",
   "metadata": {},
   "source": [
    "7. Identify the three blocks in this code:\n",
    "spam = 0\n",
    "if spam == 10:\n",
    "print('eggs')\n",
    "if spam > 5:\n",
    "print('bacon')\n",
    "else:\n",
    "print('ham')\n",
    "print('spam')\n",
    "print('spam')\n",
    "\n",
    "Ans:\n",
    "Identified this code in three blocks as follows:\n",
    "\n",
    "spam = 0\n",
    "if spam == 10:\n",
    "    print('eggs')\n",
    "if spam > 5:\n",
    "    print('bacon')\n",
    "else:\n",
    "    print('ham')\n",
    "    print('spam')\n",
    "    print('spam')"
   ]
  },
  {
   "cell_type": "raw",
   "id": "83ef5085",
   "metadata": {},
   "source": [
    "8. Write code that prints Hello if 1 is stored in spam, prints Howdy if 2 is stored in spam, and prints Greetings! if anything else is stored in spam.\n",
    "\n",
    "Ans:\n",
    "\n",
    "spam = input(\"Enter any value you wish\")\n",
    "\n",
    "if spam == '1':\n",
    "    print(\"Hello\")\n",
    "elif spam == '2':\n",
    "    print(\"Howdy\")\n",
    "else:\n",
    "    print(\"Greetings!\")"
   ]
  },
  {
   "cell_type": "raw",
   "id": "cc326178",
   "metadata": {},
   "source": [
    "9.If your programme is stuck in an endless loop, what keys you’ll press?\n",
    "\n",
    "Ans: Ctrl + C"
   ]
  },
  {
   "cell_type": "raw",
   "id": "14d1d3d6",
   "metadata": {},
   "source": [
    "10. How can you tell the difference between break and continue?\n",
    "\n",
    "Ans:\n",
    "Consider break and continue are used in a loop.\n",
    "\n",
    "Break: While execution of a loop, if the cursor comes across break keyword then it comes out of the loop and anything below the break statement inside the loop is not executed.\n",
    "e.g; while a<4:\n",
    "        break\n",
    "(Here, cursor gets out of the loop)\n",
    " \n",
    "Continue: While execution of a loop, if the cursor comes across continue keyword then it goes back to the starting point of the loop and anything below the continue statement inside the loop is not executed.\n",
    "e.g; while a<4:\n",
    "        continue\n",
    "(Here, cursor goes back to the loop and output goes in continous loop)"
   ]
  },
  {
   "cell_type": "raw",
   "id": "1d7a3ad8",
   "metadata": {},
   "source": [
    "11. In a for loop, what is the difference between range(10), range(0, 10), and range(0, 10, 1)?\n",
    "\n",
    "Ans:\n",
    "All of the three has same output. They generate the int from 0 to 9. Below is the difference:\n",
    "a) range(10):- Start value for int generation and jump is taken by default as 0 and 1. End value is provided by user.\n",
    "b) range(0,10):- Jump is by default. Start and end value for int generation is provided by the user.\n",
    "c) range(0,10,1):- Start, end and jump values, all are provided by the user.\n",
    "\n",
    "Note: Start value is included and end value is excluded while data generation."
   ]
  },
  {
   "cell_type": "raw",
   "id": "3964fafc",
   "metadata": {},
   "source": [
    "12. Write a short program that prints the numbers 1 to 10 using a for loop. Then write an equivalent program that prints the numbers 1 to 10 using a while loop.\n",
    "\n",
    "Ans:\n",
    "Foor Loop:-\n",
    "for i in range(0,10):\n",
    "    print (i)\n",
    "    \n",
    "    \n",
    "While Loop:-\n",
    "i=1\n",
    "while (i<=10):\n",
    "    print(i)\n",
    "    i+=1"
   ]
  },
  {
   "cell_type": "raw",
   "id": "e3e7f335",
   "metadata": {},
   "source": [
    "13. If you had a function named bacon() inside a module named spam, how would you call it after importing spam?\n",
    "\n",
    "Ans:spam.bacon()"
   ]
  }
 ],
 "metadata": {
  "kernelspec": {
   "display_name": "Python 3 (ipykernel)",
   "language": "python",
   "name": "python3"
  },
  "language_info": {
   "codemirror_mode": {
    "name": "ipython",
    "version": 3
   },
   "file_extension": ".py",
   "mimetype": "text/x-python",
   "name": "python",
   "nbconvert_exporter": "python",
   "pygments_lexer": "ipython3",
   "version": "3.9.7"
  }
 },
 "nbformat": 4,
 "nbformat_minor": 5
}
