{
 "cells": [
  {
   "cell_type": "raw",
   "id": "04dc5cac",
   "metadata": {},
   "source": [
    "Python_Programming_Basic_Assignment_2"
   ]
  },
  {
   "cell_type": "raw",
   "id": "b82ac6fe",
   "metadata": {},
   "source": [
    "1.\tWrite a Python program to convert kilometers to miles?\n",
    "\n",
    "Ans:\n",
    "def km_to_mi():\n",
    "    \"\"\"function for conversion of kilometer to mile\"\"\"\n",
    "    try:\n",
    "        km = eval(input(\"Enter km:\"))\n",
    "        mi = km / 1.609\n",
    "    except Exception as e:\n",
    "        print(\"Error occured\", e)\n",
    "        \n",
    "    return mi"
   ]
  },
  {
   "cell_type": "raw",
   "id": "18f7ad80",
   "metadata": {},
   "source": [
    "2.\tWrite a Python program to convert Celsius to Fahrenheit?\n",
    "\n",
    "Ans:\n",
    "def degC_to_degF():\n",
    "    \"\"\"function for conversion of Celsius to Fahrenheit\"\"\"\n",
    "    try:\n",
    "        c = eval(input(\"Enter temp in degree celsius:\"))\n",
    "        f = (c*9/5)+32\n",
    "        \n",
    "    except Exception as e:\n",
    "        print(\"Error occured\", e)\n",
    "        \n",
    "    return f"
   ]
  },
  {
   "cell_type": "raw",
   "id": "af0dc7c9",
   "metadata": {},
   "source": [
    "3.\tWrite a Python program to display calendar?\n",
    "\n",
    "Ans:\n",
    "import calendar\n",
    "def dispCalender():\n",
    "    \"\"\"function for displaying a calendar\"\"\"\n",
    "    try:\n",
    "        year = int(input(\"Enter year:\"))\n",
    "        print(calendar.calendar(year))\n",
    "        \n",
    "    except Exception as e:\n",
    "        print(\"Error occured\", e)\n",
    "        "
   ]
  },
  {
   "cell_type": "raw",
   "id": "07a8d7d3",
   "metadata": {},
   "source": [
    "4.\tWrite a Python program to solve quadratic equation?\n",
    "\n",
    "Ans: \n",
    "import math as m\n",
    "def solve_quadratic():\n",
    "    \"\"\"This function solves a qurdratic equation of a type (ax² + bx + c = 0)\n",
    "        where,\n",
    "        a,b,c are the coefficients (known values)\n",
    "        x is a variable (unknown value) \n",
    "        \n",
    "        As quadratic function has two solutions, this function returns both the values.\"\"\"\n",
    "\n",
    "    try:\n",
    "        a = int(input(\"Enter coeff a of a quadratic equation:\"))\n",
    "        b = int(input(\"Enter coeff b of a quadratic equation:\"))\n",
    "        c = int(input(\"Enter coeff c of a quadratic equation:\"))\n",
    "        \n",
    "        x =(-b+(m.sqrt(m.pow(b,2)-4*a*c)))/(2*a)\n",
    "        y =(-b-(m.sqrt(m.pow(b,2)-4*a*c)))/(2*a)\n",
    "        \n",
    "        return x,y\n",
    "\n",
    "    except:\n",
    "        return \"Its not a coefficient of quadratic equation\"\n",
    "    "
   ]
  },
  {
   "cell_type": "raw",
   "id": "9e9f2274",
   "metadata": {},
   "source": [
    "5.\tWrite a Python program to swap two variables without temp variable?\n",
    "\n",
    "Ans:\n",
    "def swap_wotemp(a,b):\n",
    "    \"\"\"This function takes two int arguments, swaps them and returns them as integer. \"\"\"\n",
    "\n",
    "    try:\n",
    "        #a = int(input(\"Enter first variable:\"))\n",
    "        #b = int(input(\"Enter second variable:\"))\n",
    "        if (type(a) and type (b)) ==int:\n",
    "            a=a+b\n",
    "            b=a-b\n",
    "            a=a-b\n",
    "\n",
    "            return a,b\n",
    "        else:\n",
    "            return \"Please enter integer values\"\n",
    "    except:\n",
    "        return \"Please enter integer values\"\n",
    "    "
   ]
  }
 ],
 "metadata": {
  "kernelspec": {
   "display_name": "Python 3 (ipykernel)",
   "language": "python",
   "name": "python3"
  },
  "language_info": {
   "codemirror_mode": {
    "name": "ipython",
    "version": 3
   },
   "file_extension": ".py",
   "mimetype": "text/x-python",
   "name": "python",
   "nbconvert_exporter": "python",
   "pygments_lexer": "ipython3",
   "version": "3.9.7"
  }
 },
 "nbformat": 4,
 "nbformat_minor": 5
}
