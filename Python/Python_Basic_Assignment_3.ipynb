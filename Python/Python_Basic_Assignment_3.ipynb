{
 "cells": [
  {
   "cell_type": "raw",
   "id": "93930b2f",
   "metadata": {},
   "source": [
    "Python_Basic_Assignment_3"
   ]
  },
  {
   "cell_type": "raw",
   "id": "c6f71c03",
   "metadata": {},
   "source": [
    "1. Why are functions advantageous to have in your programs?\n",
    "\n",
    "Ans:\n",
    "    Function is a block of code which runs when it is called.\n",
    "    They are advantageous because we do not have to write the same code multiple times.\n",
    "    Just write a code in a function and use it whenever and wherever required."
   ]
  },
  {
   "cell_type": "raw",
   "id": "7b9e93b5",
   "metadata": {},
   "source": [
    "2. When does the code in a function run: when it's specified or when it's called?\n",
    "Ans:\n",
    "when it's called."
   ]
  },
  {
   "cell_type": "raw",
   "id": "1a25894c",
   "metadata": {},
   "source": [
    "3. What statement creates a function?\n",
    "\n",
    "Ans:\n",
    "def statements creates a function followed by function name and paranthesis()."
   ]
  },
  {
   "cell_type": "raw",
   "id": "4d9e394a",
   "metadata": {},
   "source": [
    "4. What is the difference between a function and a function call?\n",
    "\n",
    "Ans:\n",
    "A function is a process to achieve specific results. It has a group of statements to do so.\n",
    "Function call means calling that function to perform certain task. If a function is not called, then there is no use of such functions."
   ]
  },
  {
   "cell_type": "raw",
   "id": "eba8e222",
   "metadata": {},
   "source": [
    "5. How many global scopes are there in a Python program? How many local scopes?\n",
    "\n",
    "Ans:\n",
    "There is one global scope, one local scope and one built-in scope of a variable when created.\n",
    "If the variable is created outside a function, then it is available throught a module. If it is created inside a function then the variable is by default local unless and until it is declared global by the user/coder. In python, the scope is always first local, then global and then built-in."
   ]
  },
  {
   "cell_type": "raw",
   "id": "e2cb134a",
   "metadata": {},
   "source": [
    "6. What happens to variables in a local scope when the function call returns?\n",
    "\n",
    "Ans:\n",
    "When a function call is completed and use of local variable is done, the variable gets destroyed after the function is executed or we can say that the variable becomes undefined."
   ]
  },
  {
   "cell_type": "raw",
   "id": "dc02df9e",
   "metadata": {},
   "source": [
    "7. What is the concept of a return value? Is it possible to have a return value in an expression?\n",
    "\n",
    "Ans:\n",
    "Return is a statement which returns the value to a caller of a function. It is used to end the execution of a function. Anything written below a return statement inside a function is not executed. If there is no return statement, then the  function returns 'None' after execution reaches the end of a function code.\n",
    "A function can return numeric values, string, objects, user defined objects, collections, classes, functions and even modules/packages."
   ]
  },
  {
   "cell_type": "raw",
   "id": "96b98f6d",
   "metadata": {},
   "source": [
    "8. If a function does not have a return statement, what is the return value of a call to that function?\n",
    "\n",
    "Ans:\n",
    "If there is no return statement, then the  function returns 'None' after execution reaches the end of a function code."
   ]
  },
  {
   "cell_type": "raw",
   "id": "3db23b8e",
   "metadata": {},
   "source": [
    "9. How do you make a function variable refer to the global variable?\n",
    "\n",
    "Ans:\n",
    "By using a global statement before variable name."
   ]
  },
  {
   "cell_type": "raw",
   "id": "feffbb5e",
   "metadata": {},
   "source": [
    "10. What is the data type of None?\n",
    "\n",
    "Ans:\n",
    "NoneType"
   ]
  },
  {
   "cell_type": "raw",
   "id": "85dc7176",
   "metadata": {},
   "source": [
    "11. What does the sentence import areallyourpetsnamederic do?\n",
    "\n",
    "Ans:\n",
    "It imports a module called areallyourpetsnamederic"
   ]
  },
  {
   "cell_type": "raw",
   "id": "43f8c142",
   "metadata": {},
   "source": [
    "12. If you had a bacon() feature in a spam module, how would you call it after importing spam?\n",
    "\n",
    "Ans:\n",
    "spam.bacon()"
   ]
  },
  {
   "cell_type": "raw",
   "id": "d898be17",
   "metadata": {},
   "source": [
    "13. What can you do to save a programme from crashing if it encounters an error?\n",
    "\n",
    "Ans:\n",
    "Use exception handling. i.e use try, except, else and finally blocks as and when required."
   ]
  },
  {
   "cell_type": "raw",
   "id": "e13b76f4",
   "metadata": {},
   "source": [
    "14. What is the purpose of the try clause? What is the purpose of the except clause?\n",
    "\n",
    "Ans:\n",
    "Try clause is used to handle a suspicious code.\n",
    "If there is an error/exception in try clause, the execution directly goes to except clause and executes whatever content is there in except clause."
   ]
  },
  {
   "cell_type": "raw",
   "id": "a5430abe",
   "metadata": {},
   "source": []
  }
 ],
 "metadata": {
  "kernelspec": {
   "display_name": "Python 3 (ipykernel)",
   "language": "python",
   "name": "python3"
  },
  "language_info": {
   "codemirror_mode": {
    "name": "ipython",
    "version": 3
   },
   "file_extension": ".py",
   "mimetype": "text/x-python",
   "name": "python",
   "nbconvert_exporter": "python",
   "pygments_lexer": "ipython3",
   "version": "3.9.7"
  }
 },
 "nbformat": 4,
 "nbformat_minor": 5
}
