{
 "cells": [
  {
   "cell_type": "markdown",
   "id": "03285636",
   "metadata": {},
   "source": [
    "### Python_Programming_Basic_Assignment_5"
   ]
  },
  {
   "cell_type": "code",
   "execution_count": null,
   "id": "978de539",
   "metadata": {},
   "outputs": [],
   "source": [
    "1.\tWrite a Python Program to Find LCM?\n",
    "\n",
    "Ans:\n",
    "def LCM(a,b):\n",
    "    \"\"\"This function takes two argument as numbers and gives its lcm\"\"\"\n",
    "    try:\n",
    "        if type(a) == int and type(b)==int:    \n",
    "            if (a<=0 or b<=0):\n",
    "                return \"Please enter values greater than zero\"\n",
    "            else:\n",
    "                n = a*b #value where for loop will stop\n",
    "                lcm=0\n",
    "                for num in range(1,n+1):\n",
    "                    if(num%a==0 and num%b==0):\n",
    "                        lcm=num\n",
    "                        break\n",
    "                return lcm \n",
    "            \n",
    "        else:\n",
    "            return \"Please enter a positive integers\"   \n",
    "    except Exception as e:\n",
    "        print(\"Error occured\", e)"
   ]
  },
  {
   "cell_type": "code",
   "execution_count": null,
   "id": "556cc7e0",
   "metadata": {},
   "outputs": [],
   "source": [
    "2.\tWrite a Python Program to Find HCF?\n",
    "\n",
    "Ans:\n",
    "def HCF(a,b):\n",
    "    \"\"\"This function takes two argument as numbers and gives its hcf\"\"\"\n",
    "    try:\n",
    "        if type(a) == int and type(b)==int:    \n",
    "            if (a<=0 or b<=0):\n",
    "                return \"Please enter values greater than zero\"\n",
    "            else:\n",
    "                if a>b:\n",
    "                    divs,dvd=a,b\n",
    "                else:\n",
    "                    divs,dvd=b,a\n",
    "                while(True):\n",
    "                    rem=divs%dvd\n",
    "                    divs=dvd\n",
    "                    if rem!=0:\n",
    "                        dvd=rem\n",
    "                    else:\n",
    "                        hcf=dvd\n",
    "                        break\n",
    "                return hcf \n",
    "            \n",
    "        else:\n",
    "            return \"Please enter a positive integers\"   \n",
    "    except Exception as e:\n",
    "        print(\"Error occured\", e)"
   ]
  },
  {
   "cell_type": "code",
   "execution_count": null,
   "id": "7101eedd",
   "metadata": {},
   "outputs": [],
   "source": [
    "3.\tWrite a Python Program to Convert Decimal to Binary, Octal and Hexadecimal?\n",
    "\n",
    "Ans:\n",
    "def value_convertor(n):\n",
    "    \"\"\"This function takes one argument as numbers and gives its binary or octal or hexadecimal values\"\"\"\n",
    "    try:\n",
    "        opt = int(input(\"What would you like to convert your value into: \\nFor binary value: Enter 1 \\nFor octal value: Enter 2 \\nFor hexadecimal value: Enter 3 \\n\"))\n",
    "        if opt==1:\n",
    "            return f'Binary value of {n} is: {bin(n)}'\n",
    "        elif opt==2:\n",
    "            return f'Octal value of {n} is: {oct(n)}'\n",
    "        elif opt==3:\n",
    "            return f'Hexadecimal value of {n} is: {hex(n)}'\n",
    "        else:\n",
    "            return \"Please enter correct value\"\n",
    "    except Exception as e:\n",
    "        print(\"Error occured:\", e)"
   ]
  },
  {
   "cell_type": "code",
   "execution_count": null,
   "id": "3d085b22",
   "metadata": {},
   "outputs": [],
   "source": [
    "4.\tWrite a Python Program To Find ASCII value of a character?\n",
    "\n",
    "Ans:\n",
    "def ASCII_finder():\n",
    "    \"\"\"This function takes one argument as character and gives its ASCII values\"\"\"\n",
    "    try:\n",
    "        char = input(\"Enter a character\")\n",
    "        return f'ASCII value of {char} is: {ord(char)}'\n",
    "    except Exception as e:\n",
    "        print(\"Error occured:\", e)"
   ]
  },
  {
   "cell_type": "code",
   "execution_count": null,
   "id": "efe73cce",
   "metadata": {},
   "outputs": [],
   "source": [
    "5.\tWrite a Python Program to Make a Simple Calculator with 4 basic mathematical operations?\n",
    "\n",
    "Ans:\n",
    "def calculator(a,b):\n",
    "    \"\"\"This function takes one argument as numbers and gives its binary or octal or hexadecimal values\"\"\"\n",
    "    try:\n",
    "        opt = int(input(\"What operation would you like to perform: \\nFor addition: Enter 1 \\nFor substraction: Enter 2 \\nFor multiplication: Enter 3 \\nFor division: Enter 4 \\n\"))\n",
    "        if opt==1:\n",
    "            return a+b\n",
    "        elif opt==2:\n",
    "            return a-b\n",
    "        elif opt==3:\n",
    "            return a*b\n",
    "        elif opt==4:\n",
    "            if b==0:\n",
    "                return \"Cannot divide by zero\"\n",
    "            return a/b\n",
    "        else:\n",
    "            return \"Please enter correct value\"\n",
    "    except Exception as e:\n",
    "        print(\"Error occured:\", e)"
   ]
  }
 ],
 "metadata": {
  "kernelspec": {
   "display_name": "Python 3 (ipykernel)",
   "language": "python",
   "name": "python3"
  },
  "language_info": {
   "codemirror_mode": {
    "name": "ipython",
    "version": 3
   },
   "file_extension": ".py",
   "mimetype": "text/x-python",
   "name": "python",
   "nbconvert_exporter": "python",
   "pygments_lexer": "ipython3",
   "version": "3.9.7"
  }
 },
 "nbformat": 4,
 "nbformat_minor": 5
}
