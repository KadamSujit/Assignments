{
 "cells": [
  {
   "cell_type": "markdown",
   "id": "e91dbac7",
   "metadata": {},
   "source": [
    "### Python_Basic_Assignment_7"
   ]
  },
  {
   "cell_type": "markdown",
   "id": "314136ea",
   "metadata": {},
   "source": [
    "1. What is the name of the feature responsible for generating Regex objects?\n",
    "\n",
    "Ans:\n",
    "re.compile() function"
   ]
  },
  {
   "cell_type": "markdown",
   "id": "6000bf77",
   "metadata": {},
   "source": [
    "2. Why do raw strings often appear in Regex objects?\n",
    "\n",
    "Ans:\n",
    "If we don't want to escape backslash, then we use raw strings."
   ]
  },
  {
   "cell_type": "markdown",
   "id": "3e6a8103",
   "metadata": {},
   "source": [
    "3. What is the return value of the search() method?\n",
    "\n",
    "Ans:\n",
    "Match objects"
   ]
  },
  {
   "cell_type": "markdown",
   "id": "6e43fe79",
   "metadata": {},
   "source": [
    "4. From a Match item, how do you get the actual strings that match the pattern?\n",
    "\n",
    "Ans:\n",
    "We use group() method to get actual string matching the pattern"
   ]
  },
  {
   "cell_type": "markdown",
   "id": "1fbf6727",
   "metadata": {},
   "source": [
    "5. In the regex which created from the r'(\\d\\d\\d)-(\\d\\d\\d-\\d\\d\\d\\d)', what does group zero cover? Group 2? Group 1?\n",
    "\n",
    "Ans:\n",
    "group 0 --> complete match\n",
    "group 1 --> first set of parentheses\n",
    "group 2 --> second set of parentheses"
   ]
  },
  {
   "cell_type": "markdown",
   "id": "f73a1dab",
   "metadata": {},
   "source": [
    "6. In standard expression syntax, parentheses and intervals have distinct meanings. How can you tell a regex that you want it to fit real parentheses and periods?\n",
    "\n",
    "Ans:To fit real parantheses use backslash before it. e.g \\( and \\)\n",
    "Similarly, for periods. e.g \\."
   ]
  },
  {
   "cell_type": "markdown",
   "id": "dd879982",
   "metadata": {},
   "source": [
    "7. The findall() method returns a string list or a list of string tuples. What causes it to return one of the two options?\n",
    "\n",
    "Ans:\n",
    "If there are no groups in our regex, then list of strings is returned.\n",
    "But if our regex has groups, then list of string tuples is returned."
   ]
  },
  {
   "cell_type": "markdown",
   "id": "69775806",
   "metadata": {},
   "source": [
    "8. In standard expressions, what does the | character mean?\n",
    "\n",
    "Ans:\n",
    "It means \"OR\""
   ]
  },
  {
   "cell_type": "markdown",
   "id": "d6b55b18",
   "metadata": {},
   "source": [
    "9. In regular expressions, what does the character stand for?\n",
    "\n",
    "Ans:\n",
    "Incomplete question"
   ]
  },
  {
   "cell_type": "markdown",
   "id": "42d23cc0",
   "metadata": {},
   "source": [
    "10.In regular expressions, what is the difference between the + and * characters?\n",
    "\n",
    "Ans:\n",
    "+ --> matches one or more\n",
    "* --> matches zero or more"
   ]
  },
  {
   "cell_type": "markdown",
   "id": "4f9de6a6",
   "metadata": {},
   "source": [
    "11. What is the difference between {4} and {4,5} in regular expression?\n",
    "\n",
    "Ans:\n",
    "{4} --> match exactly three instances of the previous group.\n",
    "{4,5} --> match between four and five instances."
   ]
  },
  {
   "cell_type": "markdown",
   "id": "5f9e905a",
   "metadata": {},
   "source": [
    "12. What do you mean by the \\d, \\w, and \\s shorthand character classes signify in regular expressions?\n",
    "\n",
    "Ans:\n",
    "\\d --> single digit\n",
    "\\w --> word\n",
    "\\s --> space character"
   ]
  },
  {
   "cell_type": "markdown",
   "id": "eacfd57e",
   "metadata": {},
   "source": [
    "13. What do means by \\D, \\W, and \\S shorthand character classes signify in regular expressions?\n",
    "\n",
    "Ans:\n",
    "\\d --> single character which is not a digit\n",
    "\\w --> word\n",
    "\\s --> space character"
   ]
  },
  {
   "cell_type": "markdown",
   "id": "3eba1015",
   "metadata": {},
   "source": [
    "14. What is the difference between .*? and .*?\n",
    "\n",
    "Ans:\n",
    ".*? --> does non greedy match\n",
    ".* --> does greedy match"
   ]
  },
  {
   "cell_type": "markdown",
   "id": "6ae91c92",
   "metadata": {},
   "source": [
    "15. What is the syntax for matching both numbers and lowercase letters with a character class?\n",
    "\n",
    "Ans:\n",
    "Use [a-z0-9] or [0-9a-z]"
   ]
  },
  {
   "cell_type": "markdown",
   "id": "515d6bfc",
   "metadata": {},
   "source": [
    "16. What is the procedure for making a normal expression in regax case insensitive?\n",
    "\n",
    "Ans:\n",
    "Giving re.I or re.IGNORECASE as the second argument to re.compile()"
   ]
  },
  {
   "cell_type": "markdown",
   "id": "7a42b879",
   "metadata": {},
   "source": [
    "17. What does the . character normally match? What does it match if re.DOTALL is passed as 2nd argument in re.compile()?\n",
    "\n",
    "Ans:\n",
    ".character --> matches any character except the newline character.\n",
    "re.DOTALL is passed as 2nd argument in re.compile() --> the dot also matchs newline character."
   ]
  },
  {
   "cell_type": "markdown",
   "id": "9dd986d6",
   "metadata": {},
   "source": [
    "18. If numReg = re.compile(r'\\d+'), what will numRegex.sub('X', '11 drummers, 10 pipers, five rings, 4 hen') return?\n",
    "\n",
    "Ans:\n",
    "'X drummers, X pipers, five rings, X hens'"
   ]
  },
  {
   "cell_type": "markdown",
   "id": "6a8a1c84",
   "metadata": {},
   "source": [
    "19. What does passing re.VERBOSE as the 2nd argument to re.compile() allow to do?\n",
    "\n",
    "Ans:\n",
    "re.VERBOSE --> allows to add whitespace and comments to the string"
   ]
  },
  {
   "cell_type": "markdown",
   "id": "16c47031",
   "metadata": {},
   "source": [
    "20. How would you write a regex that match a number with comma for every three digits? It must match the given following:\n",
    "'42'\n",
    "'1,234'\n",
    "'6,368,745'\n",
    "but not the following:\n",
    "'12,34,567' (which has only two digits between the commas)\n",
    "'1234' (which lacks commas)\n",
    "\n",
    "Ans:\n",
    "re.compile(r'^\\d{1,3}(,{3})*$')"
   ]
  },
  {
   "cell_type": "markdown",
   "id": "8cd9762e",
   "metadata": {},
   "source": [
    "21. How would you write a regex that matches the full name of someone whose last name is Watanabe? You can assume that the first name that comes before it will always be one word that begins with a capital letter. The regex must match the following:\n",
    "'Haruto Watanabe'\n",
    "'Alice Watanabe'\n",
    "'RoboCop Watanabe'\n",
    "but not the following:\n",
    "'haruto Watanabe' (where the first name is not capitalized)\n",
    "'Mr. Watanabe' (where the preceding word has a nonletter character)\n",
    "'Watanabe' (which has no first name)\n",
    "'Haruto watanabe' (where Watanabe is not capitalized)\n",
    "\n",
    "Ans:\n",
    "re.compile(r'[A-Z][a-z]*\\sWatanabe')"
   ]
  },
  {
   "cell_type": "markdown",
   "id": "4c22e791",
   "metadata": {},
   "source": [
    "22. How would you write a regex that matches a sentence where the first word is either Alice, Bob, or Carol; the second word is either eats, pets, or throws; the third word is apples, cats, or baseballs; and the sentence ends with a period? This regex should be case-insensitive. It must match the following:\n",
    "'Alice eats apples.'\n",
    "'Bob pets cats.'\n",
    "'Carol throws baseballs.'\n",
    "'Alice throws Apples.'\n",
    "'BOB EATS CATS.'\n",
    "but not the following:\n",
    "'RoboCop eats apples.'\n",
    "'ALICE THROWS FOOTBALLS.'\n",
    "'Carol eats 7 cats.'\n",
    "\n",
    "Ans:\n",
    "re.compile(r'(Alice|Bob|Carol)\\s(eats|pets|throws)\\ s(apples|cats|baseballs)\\.', re.IGNORECASE)"
   ]
  },
  {
   "cell_type": "code",
   "execution_count": null,
   "id": "5a17adee",
   "metadata": {},
   "outputs": [],
   "source": []
  }
 ],
 "metadata": {
  "kernelspec": {
   "display_name": "Python 3 (ipykernel)",
   "language": "python",
   "name": "python3"
  },
  "language_info": {
   "codemirror_mode": {
    "name": "ipython",
    "version": 3
   },
   "file_extension": ".py",
   "mimetype": "text/x-python",
   "name": "python",
   "nbconvert_exporter": "python",
   "pygments_lexer": "ipython3",
   "version": "3.9.7"
  }
 },
 "nbformat": 4,
 "nbformat_minor": 5
}
