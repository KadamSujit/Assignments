{
 "cells": [
  {
   "cell_type": "markdown",
   "id": "ced690fd",
   "metadata": {},
   "source": [
    "### Python_Programming_Basic_Assignment_3"
   ]
  },
  {
   "cell_type": "code",
   "execution_count": null,
   "id": "82a1afd7",
   "metadata": {},
   "outputs": [],
   "source": [
    "1.\tWrite a Python Program to Check if a Number is Positive, Negative or Zero?\n",
    "\n",
    "Ans:\n",
    "def check_no(x):\n",
    "    \"\"\"This function takes one argument and checks if entered number is positive, negative or zero. It also checks if it is a number or not a number\"\"\"\n",
    "    try:\n",
    "        if type(x) == int:    \n",
    "            if (x>0):\n",
    "                return \"Number is positive\"\n",
    "            elif (x<0):\n",
    "                return \"Number is negative\"\n",
    "            else:\n",
    "                return \"Number is zero\"       \n",
    "        else:\n",
    "            return \"Entered value is not a number\"   \n",
    "    except Exception as e:\n",
    "        print(\"Error occured\", e)"
   ]
  },
  {
   "cell_type": "code",
   "execution_count": null,
   "id": "20aef00a",
   "metadata": {},
   "outputs": [],
   "source": [
    "2.\tWrite a Python Program to Check if a Number is Odd or Even?\n",
    "\n",
    "Ans:\n",
    "def check_odd_even(x):\n",
    "    \"\"\"This function takes one argument and checks if it is a even number or odd number\"\"\"\n",
    "    try:\n",
    "        if type(x) == int:    \n",
    "            if (x%2==0):\n",
    "                return \"Number is even\"\n",
    "            else:\n",
    "                return \"Number is odd\"       \n",
    "        else:\n",
    "            return \"Entered value is not a number\"   \n",
    "    except Exception as e:\n",
    "        print(\"Error occured\", e)"
   ]
  },
  {
   "cell_type": "code",
   "execution_count": null,
   "id": "60a691df",
   "metadata": {},
   "outputs": [],
   "source": [
    "3.\tWrite a Python Program to Check Leap Year?\n",
    "\n",
    "Ans:\n",
    "def check_leap_year(x):\n",
    "    \"\"\"This function takes one argument and checks if it is a leap year\"\"\"\n",
    "    try:\n",
    "        if type(x) == int:    \n",
    "            if (x%4==0) and (x%100!=0):\n",
    "                return \"Leap Year\"\n",
    "            elif (x%400==0) and (x%100==0):\n",
    "                return \"Leap Year\"\n",
    "            else:\n",
    "                return \"Not a leap year\"       \n",
    "        else:\n",
    "            return \"Entered value is not a year\"   \n",
    "    except Exception as e:\n",
    "        print(\"Error occured\", e)"
   ]
  },
  {
   "cell_type": "code",
   "execution_count": null,
   "id": "9a6326dc",
   "metadata": {},
   "outputs": [],
   "source": [
    "4.\tWrite a Python Program to Check Prime Number?\n",
    "\n",
    "Ans:\n",
    "import math as m\n",
    "def check_prime_no(x):\n",
    "    \"\"\"This function takes one argument and checks if it is a prime number or not a prime number\"\"\"\n",
    "    try:\n",
    "        if type(x) == int:    \n",
    "            if (x<=1):\n",
    "                return \"Not a prime number\"\n",
    "            \n",
    "            for i in range (2,int(m.sqrt(x))+1):\n",
    "                if (x%i==0):\n",
    "                    return \"Not a prime number\"\n",
    "      \n",
    "            return \"It is a prime number\"\n",
    "    \n",
    "        else:\n",
    "            return \"Entered value is not an integer\"   \n",
    "    except Exception as e:\n",
    "        print(\"Error occured\", e)"
   ]
  },
  {
   "cell_type": "code",
   "execution_count": null,
   "id": "6e9e8b33",
   "metadata": {},
   "outputs": [],
   "source": [
    "5.\tWrite a Python Program to Print all Prime Numbers in an Interval of 1-10000?\n",
    "\n",
    "Ans:\n",
    "import math as m\n",
    "def check_prime_interval():\n",
    "    \"\"\"This function takes range values and gives prime numbers from that range\"\"\"\n",
    "    try:   \n",
    "        l = []\n",
    "        n1=int(input(\"Enter start int of a range\"))\n",
    "        if n1<=1:\n",
    "            return \"Please enter start range value greater than 1: Numbers below 1 are not prime\"\n",
    "        n2=int(input(\"Enter end int of a range\"))\n",
    "        \n",
    "        for a in range (n1,n2+1):\n",
    "            for i in range (2,a):\n",
    "                if (a%i==0):\n",
    "                    break\n",
    "            else:\n",
    "                l.append(a)\n",
    "        return l\n",
    "  \n",
    "    except Exception as e:\n",
    "        print(\"Error occured\", e)"
   ]
  },
  {
   "cell_type": "code",
   "execution_count": null,
   "id": "b7f60b4c",
   "metadata": {},
   "outputs": [],
   "source": []
  }
 ],
 "metadata": {
  "kernelspec": {
   "display_name": "Python 3 (ipykernel)",
   "language": "python",
   "name": "python3"
  },
  "language_info": {
   "codemirror_mode": {
    "name": "ipython",
    "version": 3
   },
   "file_extension": ".py",
   "mimetype": "text/x-python",
   "name": "python",
   "nbconvert_exporter": "python",
   "pygments_lexer": "ipython3",
   "version": "3.9.7"
  }
 },
 "nbformat": 4,
 "nbformat_minor": 5
}
