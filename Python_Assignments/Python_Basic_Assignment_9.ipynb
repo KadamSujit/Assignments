{
 "cells": [
  {
   "cell_type": "markdown",
   "id": "f7cc80fc",
   "metadata": {},
   "source": [
    "### Python_Basic_Assignment_9"
   ]
  },
  {
   "cell_type": "markdown",
   "id": "c5b8f288",
   "metadata": {},
   "source": [
    "1. To what does a relative path refer?\n",
    "\n",
    "Ans:\n",
    "To current working directory"
   ]
  },
  {
   "cell_type": "markdown",
   "id": "9a258b1b",
   "metadata": {},
   "source": [
    "2. What does an absolute path start with your operating system?\n",
    "\n",
    "Ans:\n",
    "It starts with root folder, such as for windows - C:\\ drive"
   ]
  },
  {
   "cell_type": "markdown",
   "id": "105afe04",
   "metadata": {},
   "source": [
    "3. What do the functions os.getcwd() and os.chdir() do?\n",
    "\n",
    "Ans:\n",
    "os.getcwd() --> gets current working directory\n",
    "os.chdir() --> changes current working directory"
   ]
  },
  {
   "cell_type": "markdown",
   "id": "c77ba170",
   "metadata": {},
   "source": [
    "4. What are the . and .. folders?\n",
    "\n",
    "Ans:\n",
    ". --> corresponds to current folder\n",
    ".. --> corresponds to previous folder"
   ]
  },
  {
   "cell_type": "markdown",
   "id": "2f7d9e00",
   "metadata": {},
   "source": [
    "5. In C:\\bacon\\eggs\\spam.txt, which part is the dir name, and which part is the base name?\n",
    "\n",
    "Ans:\n",
    "eggs --> dirname\n",
    "spam.txt --> basename"
   ]
  },
  {
   "cell_type": "markdown",
   "id": "c828eb32",
   "metadata": {},
   "source": [
    "6. What are the three “mode” arguments that can be passed to the open() function?\n",
    "\n",
    "Ans:\n",
    "r --> read mode\n",
    "w --> write mode\n",
    "a --> append mode"
   ]
  },
  {
   "cell_type": "markdown",
   "id": "9ee2ad0e",
   "metadata": {},
   "source": [
    "7. What happens if an existing file is opened in write mode?\n",
    "\n",
    "Ans:\n",
    "Previous data is cleaned and new data is overwritten"
   ]
  },
  {
   "cell_type": "markdown",
   "id": "b21ec1a9",
   "metadata": {},
   "source": [
    "8. How do you tell the difference between read() and readlines()?\n",
    "\n",
    "Ans:\n",
    "read() --> reads entire data as a single line \n",
    "readlines() --> reads entire data and return it as a list of strings, where each string element is a line of data from the file it has read."
   ]
  },
  {
   "cell_type": "markdown",
   "id": "48756c26",
   "metadata": {},
   "source": [
    "9. What data structure does a shelf value resemble?\n",
    "\n",
    "Ans:\n",
    "It resembles a dictionary value."
   ]
  },
  {
   "cell_type": "code",
   "execution_count": null,
   "id": "e306b4a3",
   "metadata": {},
   "outputs": [],
   "source": []
  }
 ],
 "metadata": {
  "kernelspec": {
   "display_name": "Python 3 (ipykernel)",
   "language": "python",
   "name": "python3"
  },
  "language_info": {
   "codemirror_mode": {
    "name": "ipython",
    "version": 3
   },
   "file_extension": ".py",
   "mimetype": "text/x-python",
   "name": "python",
   "nbconvert_exporter": "python",
   "pygments_lexer": "ipython3",
   "version": "3.9.7"
  }
 },
 "nbformat": 4,
 "nbformat_minor": 5
}
