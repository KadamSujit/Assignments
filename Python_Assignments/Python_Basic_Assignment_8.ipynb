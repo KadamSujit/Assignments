{
 "cells": [
  {
   "cell_type": "markdown",
   "id": "5ed23017",
   "metadata": {},
   "source": [
    "### Python_Basic_Assignment_8"
   ]
  },
  {
   "cell_type": "markdown",
   "id": "0de5cfc6",
   "metadata": {},
   "source": [
    "1. Is the Python Standard Library included with PyInputPlus?\n",
    "\n",
    "Ans:\n",
    "No, PyInputPlus is not a standard lib, but can be installed by !pip install pyinputplus command"
   ]
  },
  {
   "cell_type": "markdown",
   "id": "2ec7fafb",
   "metadata": {},
   "source": [
    "2. Why is PyInputPlus commonly imported with import pyinputplus as pypi?\n",
    "\n",
    "Ans:\n",
    "pypi is alias for pyinputplus. Alias are shortcuts and used to avoid writting long names"
   ]
  },
  {
   "cell_type": "markdown",
   "id": "a024a11b",
   "metadata": {},
   "source": [
    "3. How do you distinguish between inputInt() and inputFloat()?\n",
    "\n",
    "Ans:\n",
    "inputInt() --> takes integer value and returns integer values\n",
    "inputFloat() --> takes integer and float valuea but returns float values"
   ]
  },
  {
   "cell_type": "markdown",
   "id": "1e57fdfe",
   "metadata": {},
   "source": [
    "4. Using PyInputPlus, how do you ensure that the user enters a whole number between 0 and 99?\n",
    "\n",
    "Ans:\n",
    "By using min and max.\n",
    "for e.g: pyip.inputInt(min = 0, max =99)"
   ]
  },
  {
   "cell_type": "markdown",
   "id": "b79b7432",
   "metadata": {},
   "source": [
    "5. What is transferred to the keyword arguments allowRegexes and blockRegexes?\n",
    "\n",
    "Ans:\n",
    "We pass a list of regex strings that are either explicitly allowed or not allowed"
   ]
  },
  {
   "cell_type": "markdown",
   "id": "ce9d3cbd",
   "metadata": {},
   "source": [
    "6. If a blank input is entered three times, what does inputStr(limit=3) do?\n",
    "\n",
    "Ans:\n",
    "Throws exception --> RetryLimitException"
   ]
  },
  {
   "cell_type": "markdown",
   "id": "a2471481",
   "metadata": {},
   "source": [
    "7. If blank input is entered three times, what does inputStr(limit=3, default='hello') do?\n",
    "\n",
    "Ans:\n",
    "Returns default value -->  'hello'"
   ]
  },
  {
   "cell_type": "code",
   "execution_count": null,
   "id": "f73c75e0",
   "metadata": {},
   "outputs": [],
   "source": []
  }
 ],
 "metadata": {
  "kernelspec": {
   "display_name": "Python 3 (ipykernel)",
   "language": "python",
   "name": "python3"
  },
  "language_info": {
   "codemirror_mode": {
    "name": "ipython",
    "version": 3
   },
   "file_extension": ".py",
   "mimetype": "text/x-python",
   "name": "python",
   "nbconvert_exporter": "python",
   "pygments_lexer": "ipython3",
   "version": "3.9.7"
  }
 },
 "nbformat": 4,
 "nbformat_minor": 5
}
