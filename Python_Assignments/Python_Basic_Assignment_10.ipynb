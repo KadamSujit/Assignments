{
 "cells": [
  {
   "cell_type": "markdown",
   "id": "ef1763c9",
   "metadata": {},
   "source": [
    "### Python_Basic_Assignment_10"
   ]
  },
  {
   "cell_type": "markdown",
   "id": "38d4c525",
   "metadata": {},
   "source": [
    "1. How do you distinguish between shutil.copy() and shutil.copytree()?\n",
    "\n",
    "Ans:\n",
    "shutil.copy() --> copy a single file\n",
    "shutil.copytree() --> copy a entire folder with all its content"
   ]
  },
  {
   "cell_type": "markdown",
   "id": "820bb49c",
   "metadata": {},
   "source": [
    "2. What function is used to rename files?\n",
    "\n",
    "Ans:\n",
    "shutil.move() "
   ]
  },
  {
   "cell_type": "markdown",
   "id": "97d41835",
   "metadata": {},
   "source": [
    "3. What is the difference between the delete functions in the send2trash and shutil modules?\n",
    "\n",
    "Ans:\n",
    "delete in send2trash --> moves file/folder to recycle bin\n",
    "delete in shutil --> permenantly deletes file/folder"
   ]
  },
  {
   "cell_type": "markdown",
   "id": "ca56ff4d",
   "metadata": {},
   "source": [
    "4.ZipFile objects have a close() method just like File objects’ close() method. What ZipFile method is equivalent to File objects’ open() method?\n",
    "\n",
    "Ans:\n",
    "zipfile.ZipFile() function. It takes 2 arguments; filename and read, write or append mode."
   ]
  },
  {
   "cell_type": "code",
   "execution_count": null,
   "id": "a962b14b",
   "metadata": {},
   "outputs": [],
   "source": [
    "5. Create a programme that searches a folder tree for files with a certain file extension (such as .pdf or .jpg). Copy these files from whatever location they are in to a new folder.\n",
    "\n",
    "Ans:\n",
    "import os, shutil\n",
    "\n",
    "sourcePath = input(\"Source folder location: \")\n",
    "fileExtType = input(\"File type to copy? (such as .pdf or .jpg): \").lower()\n",
    "destPath = input(\"Destination folder location: \")\n",
    "\n",
    "for foldername, subfolders, filenames in os.walk(sourcePath):\n",
    "    for filename in filenames:\n",
    "        if filename.lower().endswith(fileExtType):\n",
    "            print(foldername + \"\\\\\" + filename)\n",
    "            copySourcePath = os.path.join(foldername, filename)\n",
    "            #print(copySourcePath)\n",
    "            shutil.copy(copySourcePath, destPath)\n",
    "    else:\n",
    "        continue"
   ]
  },
  {
   "cell_type": "markdown",
   "id": "0fb60abd",
   "metadata": {},
   "source": []
  },
  {
   "cell_type": "code",
   "execution_count": null,
   "id": "680ba291",
   "metadata": {},
   "outputs": [],
   "source": []
  }
 ],
 "metadata": {
  "kernelspec": {
   "display_name": "Python 3 (ipykernel)",
   "language": "python",
   "name": "python3"
  },
  "language_info": {
   "codemirror_mode": {
    "name": "ipython",
    "version": 3
   },
   "file_extension": ".py",
   "mimetype": "text/x-python",
   "name": "python",
   "nbconvert_exporter": "python",
   "pygments_lexer": "ipython3",
   "version": "3.9.7"
  }
 },
 "nbformat": 4,
 "nbformat_minor": 5
}
