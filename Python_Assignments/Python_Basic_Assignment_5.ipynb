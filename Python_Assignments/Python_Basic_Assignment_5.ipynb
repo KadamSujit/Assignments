{
 "cells": [
  {
   "cell_type": "markdown",
   "id": "b21cf2a4",
   "metadata": {},
   "source": [
    "### Python_Basic_Assignment_5"
   ]
  },
  {
   "cell_type": "markdown",
   "id": "eb796b01",
   "metadata": {},
   "source": [
    "1. What does an empty dictionary's code look like?\n",
    "\n",
    "Ans:\n",
    "d = {}"
   ]
  },
  {
   "cell_type": "markdown",
   "id": "703ad61c",
   "metadata": {},
   "source": [
    "2. What is the value of a dictionary value with the key 'foo' and the value 42?\n",
    "\n",
    "Ans:\n",
    "value is 42 because dictionary is --> value = {'foo':42}"
   ]
  },
  {
   "cell_type": "markdown",
   "id": "95cdcd0c",
   "metadata": {},
   "source": [
    "3. What is the most significant distinction between a dictionary and a list?\n",
    "\n",
    "Ans:\n",
    "Items in a lists are accessed by their position/index, but items in the dictioaries are accessed by their keys.\n",
    "List elements are ordered sequence of objects while dictionaries are unordered sets. Hence items of list are ordered and that of dictionary are unordered."
   ]
  },
  {
   "cell_type": "markdown",
   "id": "5c1d717d",
   "metadata": {},
   "source": [
    "4. What happens if you try to access spam['foo'] if spam is {'bar': 100}?\n",
    "\n",
    "Ans: \n",
    "It gives KeyError and program fails. This is because key 'foo' is not defined."
   ]
  },
  {
   "cell_type": "markdown",
   "id": "93ce3949",
   "metadata": {},
   "source": [
    "5. If a dictionary is stored in spam, what is the difference between the expressions 'cat' in spam and 'cat' in spam.keys()?\n",
    "\n",
    "Ans:\n",
    "'cat' in spam\n",
    "'cat' in spam.keys()\n",
    "These both expressions looks if there is a key called as 'cat' in the dictionary spam"
   ]
  },
  {
   "cell_type": "markdown",
   "id": "49a42df9",
   "metadata": {},
   "source": [
    "6. If a dictionary is stored in spam, what is the difference between the expressions 'cat' in spam and 'cat' in spam.values()?\n",
    "\n",
    "Ans:\n",
    "\n",
    "'cat' in spam --> This expressions looks if there is a key called as 'cat' in the dictionary spam.\n",
    "'cat' in spam.values() --> This expressions looks if there is a value called as 'cat' for any key in the dictionary spam. "
   ]
  },
  {
   "cell_type": "markdown",
   "id": "daff63b2",
   "metadata": {},
   "source": [
    "7. What is a shortcut for the following code?\n",
    "if 'color' not in spam:\n",
    "spam['color'] = 'black'\n",
    "\n",
    "Ans:\n",
    "spam.setdefault('color', 'black')"
   ]
  },
  {
   "cell_type": "markdown",
   "id": "6f42e392",
   "metadata": {},
   "source": [
    "8. How do you \"pretty print\" dictionary values using which module and function?\n",
    "\n",
    "Ans:\n",
    "pprint.pprint()"
   ]
  },
  {
   "cell_type": "code",
   "execution_count": null,
   "id": "0da72f9b",
   "metadata": {},
   "outputs": [],
   "source": []
  }
 ],
 "metadata": {
  "kernelspec": {
   "display_name": "Python 3 (ipykernel)",
   "language": "python",
   "name": "python3"
  },
  "language_info": {
   "codemirror_mode": {
    "name": "ipython",
    "version": 3
   },
   "file_extension": ".py",
   "mimetype": "text/x-python",
   "name": "python",
   "nbconvert_exporter": "python",
   "pygments_lexer": "ipython3",
   "version": "3.9.7"
  }
 },
 "nbformat": 4,
 "nbformat_minor": 5
}
