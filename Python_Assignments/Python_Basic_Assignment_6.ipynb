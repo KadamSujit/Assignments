{
 "cells": [
  {
   "cell_type": "markdown",
   "id": "00b6f200",
   "metadata": {},
   "source": [
    "### Python_Basic_Assignment_6"
   ]
  },
  {
   "cell_type": "markdown",
   "id": "a148e01a",
   "metadata": {},
   "source": [
    "1. What are escape characters, and how do you use them?\n",
    "\n",
    "Ans:\n",
    "Escape character is a backlash followed by a character that we want to insert. It is used for inserting a character into a string that is otherwise difficult to insert.\n",
    "They never get printed as an output."
   ]
  },
  {
   "cell_type": "markdown",
   "id": "ade5581e",
   "metadata": {},
   "source": [
    "2. What do the escape characters n and t stand for?\n",
    "\n",
    "Ans:\n",
    "n: New line\n",
    "t: tab"
   ]
  },
  {
   "cell_type": "markdown",
   "id": "1eee46bb",
   "metadata": {},
   "source": [
    "3. What is the way to include backslash characters in a string?\n",
    "\n",
    "Ans:\n",
    "When we use letter r before backslash, then it treates the backslash as a literal character and not a special character.\n",
    "eg. \"\\n\" will give use newline, but r\"\\n\" won't. It gives output as \\n with datatype as string."
   ]
  },
  {
   "cell_type": "markdown",
   "id": "a607cf60",
   "metadata": {},
   "source": [
    "4. The string \"Howl's Moving Castle\" is a correct value. Why isn't the single quote character in the word Howl's not escaped a problem?\n",
    "\n",
    "Ans:\n",
    "As double quotes are used at start and end for donating the string, hence single quote can be used in between the string.\n",
    "Same can be done vice versa."
   ]
  },
  {
   "cell_type": "markdown",
   "id": "d923772a",
   "metadata": {},
   "source": [
    "5. How do you write a string of newlines if you don't want to use the n character?\n",
    "\n",
    "Ans:\n",
    "By using multiline strings.\n",
    "e.g:\n",
    "    \"\"\"Python\n",
    "    Basic\n",
    "    Assignment\"\"\""
   ]
  },
  {
   "cell_type": "markdown",
   "id": "b7c563f8",
   "metadata": {},
   "source": [
    "6. What are the values of the given expressions?\n",
    "'Hello, world!'[1]\n",
    "'Hello, world!'[0:5]\n",
    "'Hello, world!'[:5]\n",
    "'Hello, world!'[3:]\n",
    "\n",
    "Ans:\n",
    "'Hello, world!'[1] --> 'e'\n",
    "'Hello, world!'[0:5] --> 'Hello'\n",
    "'Hello, world!'[:5] --> 'Hello'\n",
    "'Hello, world!'[3:] --> 'lo, world!'"
   ]
  },
  {
   "cell_type": "markdown",
   "id": "f367bd1a",
   "metadata": {},
   "source": [
    "7. What are the values of the following expressions?\n",
    "'Hello'.upper()\n",
    "'Hello'.upper().isupper()\n",
    "'Hello'.upper().lower()\n",
    "\n",
    "Ans:\n",
    "'Hello'.upper() --> 'HELLO'\n",
    "'Hello'.upper().isupper() --> False\n",
    "'Hello'.upper().lower() --> 'hello'"
   ]
  },
  {
   "cell_type": "markdown",
   "id": "db526c81",
   "metadata": {},
   "source": [
    "8. What are the values of the following expressions?\n",
    "'Remember, remember, the fifth of July.'.split()\n",
    "'-'.join('There can only one.'.split())\n",
    "\n",
    "Ans:\n",
    "'Remember, remember, the fifth of July.'.split() --> Splits with space --> ['Remember,', 'remember,', 'the', 'fifth', 'of', 'July.']\n",
    "'-'.join('There can only one.'.split()) --> Adds '-' and joins the splitted strings --> 'There-can-only-one.'"
   ]
  },
  {
   "cell_type": "markdown",
   "id": "5ac2f715",
   "metadata": {},
   "source": [
    "9. What are the methods for right-justifying, left-justifying, and centering a string?\n",
    "\n",
    "Ans:\n",
    "right-justifying --> rjust()\n",
    "left-justifying --> ljust()\n",
    "center --> center()"
   ]
  },
  {
   "cell_type": "markdown",
   "id": "1d453936",
   "metadata": {},
   "source": [
    "10. What is the best way to remove whitespace characters from the start or end?\n",
    "\n",
    "Ans:\n",
    "Remove whitespace from start --> lstrip()\n",
    "Remove whitespace from end --> rstrip"
   ]
  },
  {
   "cell_type": "markdown",
   "id": "acefd3a1",
   "metadata": {},
   "source": []
  }
 ],
 "metadata": {
  "kernelspec": {
   "display_name": "Python 3 (ipykernel)",
   "language": "python",
   "name": "python3"
  },
  "language_info": {
   "codemirror_mode": {
    "name": "ipython",
    "version": 3
   },
   "file_extension": ".py",
   "mimetype": "text/x-python",
   "name": "python",
   "nbconvert_exporter": "python",
   "pygments_lexer": "ipython3",
   "version": "3.9.7"
  }
 },
 "nbformat": 4,
 "nbformat_minor": 5
}
